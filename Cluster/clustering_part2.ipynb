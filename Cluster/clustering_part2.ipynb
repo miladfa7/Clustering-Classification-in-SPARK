{
 "cells": [
  {
   "cell_type": "code",
   "execution_count": 3,
   "metadata": {},
   "outputs": [],
   "source": [
    "from pyspark.sql import SQLContext\n",
    "from pyspark.ml.clustering import KMeans\n",
    "from pyspark.ml.feature import VectorAssembler\n",
    "from pyspark.ml.feature import StandardScaler\n",
    "import utils\n",
    "%matplotlib inline"
   ]
  },
  {
   "cell_type": "code",
   "execution_count": null,
   "metadata": {},
   "outputs": [],
   "source": []
  },
  {
   "cell_type": "code",
   "execution_count": 5,
   "metadata": {},
   "outputs": [],
   "source": [
    "sqlContext = SQLContext(sc)\n",
    "dataset = sqlContext.read.load('/media/milad/Linux/bigdata/minute_weather.csv', \n",
    "                          format='com.databricks.spark.csv', \n",
    "                          header='true',inferSchema='true')"
   ]
  },
  {
   "cell_type": "code",
   "execution_count": 6,
   "metadata": {},
   "outputs": [
    {
     "data": {
      "text/plain": [
       "1587257"
      ]
     },
     "execution_count": 6,
     "metadata": {},
     "output_type": "execute_result"
    }
   ],
   "source": [
    "dataset.count()"
   ]
  },
  {
   "cell_type": "code",
   "execution_count": 10,
   "metadata": {},
   "outputs": [
    {
     "data": {
      "text/plain": [
       "158726"
      ]
     },
     "execution_count": 10,
     "metadata": {},
     "output_type": "execute_result"
    }
   ],
   "source": [
    "filtere_dataset = dataset.filter((dataset.rowID % 10) == 0)\n",
    "filtere_dataset.count()"
   ]
  },
  {
   "cell_type": "code",
   "execution_count": 11,
   "metadata": {
    "scrolled": true
   },
   "outputs": [
    {
     "data": {
      "text/html": [
       "<div>\n",
       "<style scoped>\n",
       "    .dataframe tbody tr th:only-of-type {\n",
       "        vertical-align: middle;\n",
       "    }\n",
       "\n",
       "    .dataframe tbody tr th {\n",
       "        vertical-align: top;\n",
       "    }\n",
       "\n",
       "    .dataframe thead th {\n",
       "        text-align: right;\n",
       "    }\n",
       "</style>\n",
       "<table border=\"1\" class=\"dataframe\">\n",
       "  <thead>\n",
       "    <tr style=\"text-align: right;\">\n",
       "      <th></th>\n",
       "      <th>0</th>\n",
       "      <th>1</th>\n",
       "      <th>2</th>\n",
       "      <th>3</th>\n",
       "      <th>4</th>\n",
       "    </tr>\n",
       "  </thead>\n",
       "  <tbody>\n",
       "    <tr>\n",
       "      <th>summary</th>\n",
       "      <td>count</td>\n",
       "      <td>mean</td>\n",
       "      <td>stddev</td>\n",
       "      <td>min</td>\n",
       "      <td>max</td>\n",
       "    </tr>\n",
       "    <tr>\n",
       "      <th>rowID</th>\n",
       "      <td>158726</td>\n",
       "      <td>793625.0</td>\n",
       "      <td>458203.9375103623</td>\n",
       "      <td>0</td>\n",
       "      <td>1587250</td>\n",
       "    </tr>\n",
       "    <tr>\n",
       "      <th>air_pressure</th>\n",
       "      <td>158726</td>\n",
       "      <td>916.8301614102414</td>\n",
       "      <td>3.0517165528314516</td>\n",
       "      <td>905.0</td>\n",
       "      <td>929.5</td>\n",
       "    </tr>\n",
       "    <tr>\n",
       "      <th>air_temp</th>\n",
       "      <td>158726</td>\n",
       "      <td>61.8515891536364</td>\n",
       "      <td>11.833569210641642</td>\n",
       "      <td>31.64</td>\n",
       "      <td>99.5</td>\n",
       "    </tr>\n",
       "    <tr>\n",
       "      <th>avg_wind_direction</th>\n",
       "      <td>158680</td>\n",
       "      <td>162.15610032770354</td>\n",
       "      <td>95.27820101905921</td>\n",
       "      <td>0.0</td>\n",
       "      <td>359.0</td>\n",
       "    </tr>\n",
       "    <tr>\n",
       "      <th>avg_wind_speed</th>\n",
       "      <td>158680</td>\n",
       "      <td>2.7752148979077447</td>\n",
       "      <td>2.0576239697426435</td>\n",
       "      <td>0.0</td>\n",
       "      <td>31.9</td>\n",
       "    </tr>\n",
       "    <tr>\n",
       "      <th>max_wind_direction</th>\n",
       "      <td>158680</td>\n",
       "      <td>163.46214393748426</td>\n",
       "      <td>92.45213853838722</td>\n",
       "      <td>0.0</td>\n",
       "      <td>359.0</td>\n",
       "    </tr>\n",
       "    <tr>\n",
       "      <th>max_wind_speed</th>\n",
       "      <td>158680</td>\n",
       "      <td>3.4005577262415194</td>\n",
       "      <td>2.418801620809888</td>\n",
       "      <td>0.1</td>\n",
       "      <td>36.0</td>\n",
       "    </tr>\n",
       "    <tr>\n",
       "      <th>min_wind_direction</th>\n",
       "      <td>158680</td>\n",
       "      <td>166.77401688933702</td>\n",
       "      <td>97.44110914784571</td>\n",
       "      <td>0.0</td>\n",
       "      <td>359.0</td>\n",
       "    </tr>\n",
       "    <tr>\n",
       "      <th>min_wind_speed</th>\n",
       "      <td>158680</td>\n",
       "      <td>2.134664103856878</td>\n",
       "      <td>1.742112505242437</td>\n",
       "      <td>0.0</td>\n",
       "      <td>31.6</td>\n",
       "    </tr>\n",
       "    <tr>\n",
       "      <th>rain_accumulation</th>\n",
       "      <td>158725</td>\n",
       "      <td>3.178453299732825E-4</td>\n",
       "      <td>0.01123597908603982</td>\n",
       "      <td>0.0</td>\n",
       "      <td>3.12</td>\n",
       "    </tr>\n",
       "    <tr>\n",
       "      <th>rain_duration</th>\n",
       "      <td>158725</td>\n",
       "      <td>0.4096267128681682</td>\n",
       "      <td>8.665522693479774</td>\n",
       "      <td>0.0</td>\n",
       "      <td>2960.0</td>\n",
       "    </tr>\n",
       "    <tr>\n",
       "      <th>relative_humidity</th>\n",
       "      <td>158726</td>\n",
       "      <td>47.609469778108185</td>\n",
       "      <td>26.214408535062045</td>\n",
       "      <td>0.9</td>\n",
       "      <td>93.0</td>\n",
       "    </tr>\n",
       "  </tbody>\n",
       "</table>\n",
       "</div>"
      ],
      "text/plain": [
       "                         0                     1                    2      3  \\\n",
       "summary              count                  mean               stddev    min   \n",
       "rowID               158726              793625.0    458203.9375103623      0   \n",
       "air_pressure        158726     916.8301614102414   3.0517165528314516  905.0   \n",
       "air_temp            158726      61.8515891536364   11.833569210641642  31.64   \n",
       "avg_wind_direction  158680    162.15610032770354    95.27820101905921    0.0   \n",
       "avg_wind_speed      158680    2.7752148979077447   2.0576239697426435    0.0   \n",
       "max_wind_direction  158680    163.46214393748426    92.45213853838722    0.0   \n",
       "max_wind_speed      158680    3.4005577262415194    2.418801620809888    0.1   \n",
       "min_wind_direction  158680    166.77401688933702    97.44110914784571    0.0   \n",
       "min_wind_speed      158680     2.134664103856878    1.742112505242437    0.0   \n",
       "rain_accumulation   158725  3.178453299732825E-4  0.01123597908603982    0.0   \n",
       "rain_duration       158725    0.4096267128681682    8.665522693479774    0.0   \n",
       "relative_humidity   158726    47.609469778108185   26.214408535062045    0.9   \n",
       "\n",
       "                          4  \n",
       "summary                 max  \n",
       "rowID               1587250  \n",
       "air_pressure          929.5  \n",
       "air_temp               99.5  \n",
       "avg_wind_direction    359.0  \n",
       "avg_wind_speed         31.9  \n",
       "max_wind_direction    359.0  \n",
       "max_wind_speed         36.0  \n",
       "min_wind_direction    359.0  \n",
       "min_wind_speed         31.6  \n",
       "rain_accumulation      3.12  \n",
       "rain_duration        2960.0  \n",
       "relative_humidity      93.0  "
      ]
     },
     "execution_count": 11,
     "metadata": {},
     "output_type": "execute_result"
    }
   ],
   "source": [
    "filtere_dataset.describe().toPandas().transpose()"
   ]
  },
  {
   "cell_type": "code",
   "execution_count": 12,
   "metadata": {},
   "outputs": [
    {
     "data": {
      "text/plain": [
       "157812"
      ]
     },
     "execution_count": 12,
     "metadata": {},
     "output_type": "execute_result"
    }
   ],
   "source": [
    "filtere_dataset.filter(filtere_dataset.rain_accumulation == 0.0).count() "
   ]
  },
  {
   "cell_type": "code",
   "execution_count": 13,
   "metadata": {},
   "outputs": [
    {
     "data": {
      "text/plain": [
       "157237"
      ]
     },
     "execution_count": 13,
     "metadata": {},
     "output_type": "execute_result"
    }
   ],
   "source": [
    "filtere_dataset.filter(filtere_dataset.rain_duration == 0.0).count() "
   ]
  },
  {
   "cell_type": "code",
   "execution_count": 14,
   "metadata": {},
   "outputs": [],
   "source": [
    "drop_data = filtere_dataset.drop('rain_accumulation').drop('rain_duration').drop('hpwren_timestamp')"
   ]
  },
  {
   "cell_type": "code",
   "execution_count": 15,
   "metadata": {},
   "outputs": [
    {
     "data": {
      "text/plain": [
       "46"
      ]
     },
     "execution_count": 15,
     "metadata": {},
     "output_type": "execute_result"
    }
   ],
   "source": [
    "before = drop_data.count()\n",
    "drop_data = drop_data.na.drop()\n",
    "after = drop_data.count()\n",
    "before - after"
   ]
  },
  {
   "cell_type": "code",
   "execution_count": 16,
   "metadata": {},
   "outputs": [
    {
     "data": {
      "text/plain": [
       "['rowID',\n",
       " 'air_pressure',\n",
       " 'air_temp',\n",
       " 'avg_wind_direction',\n",
       " 'avg_wind_speed',\n",
       " 'max_wind_direction',\n",
       " 'max_wind_speed',\n",
       " 'min_wind_direction',\n",
       " 'min_wind_speed',\n",
       " 'relative_humidity']"
      ]
     },
     "execution_count": 16,
     "metadata": {},
     "output_type": "execute_result"
    }
   ],
   "source": [
    "drop_data.columns"
   ]
  },
  {
   "cell_type": "code",
   "execution_count": 18,
   "metadata": {},
   "outputs": [],
   "source": [
    "featuresUsed = ['air_pressure', 'air_temp', 'avg_wind_direction', 'avg_wind_speed', 'max_wind_direction', \n",
    "        'max_wind_speed','relative_humidity']\n",
    "assembler = VectorAssembler(inputCols=featuresUsed, outputCol=\"features_unscaled\")\n",
    "assembled = assembler.transform(drop_data)"
   ]
  },
  {
   "cell_type": "code",
   "execution_count": 21,
   "metadata": {},
   "outputs": [],
   "source": [
    "scale = StandardScaler(inputCol=\"features_unscaled\", outputCol=\"features\", withStd=True, withMean=True)\n",
    "scale_model = scale.fit(assembled)\n",
    "scale_data = scale_model.transform(assembled)"
   ]
  },
  {
   "cell_type": "code",
   "execution_count": 23,
   "metadata": {},
   "outputs": [],
   "source": [
    "scale_data = scale_data.select(\"features\", \"rowID\")\n",
    "\n",
    "elbow_set = scale_data.filter((scale_data.rowID % 3) == 0).select(\"features\")\n",
    "#elbow_set.persist()"
   ]
  },
  {
   "cell_type": "code",
   "execution_count": 25,
   "metadata": {},
   "outputs": [
    {
     "name": "stdout",
     "output_type": "stream",
     "text": [
      "Training for cluster size 2 \n",
      "......................WSSE = 116135.32387397485 \n",
      "Training for cluster size 3 \n",
      "......................WSSE = 103408.96751787724 \n",
      "Training for cluster size 4 \n",
      "......................WSSE = 94577.2715128772 \n",
      "Training for cluster size 5 \n",
      "......................WSSE = 87993.31206982673 \n",
      "Training for cluster size 6 \n",
      "......................WSSE = 85084.84322949202 \n",
      "Training for cluster size 7 \n",
      "......................WSSE = 81552.63333229681 \n",
      "Training for cluster size 8 \n",
      "......................WSSE = 78828.61754551521 \n",
      "Training for cluster size 9 \n",
      "......................WSSE = 75645.1169422379 \n",
      "Training for cluster size 10 \n",
      "......................WSSE = 73172.41487329364 \n",
      "Training for cluster size 11 \n",
      "......................WSSE = 71394.824861575 \n",
      "Training for cluster size 12 \n",
      "......................WSSE = 69740.9866378799 \n",
      "Training for cluster size 13 \n",
      "......................WSSE = 69121.74608059169 \n",
      "Training for cluster size 14 \n",
      "......................WSSE = 67363.68872250439 \n",
      "Training for cluster size 15 \n",
      "......................WSSE = 66576.21319392955 \n",
      "Training for cluster size 16 \n",
      "......................WSSE = 65371.02880819456 \n",
      "Training for cluster size 17 \n",
      "......................WSSE = 64649.31509198578 \n",
      "Training for cluster size 18 \n",
      "......................WSSE = 63362.09328120621 \n",
      "Training for cluster size 19 \n",
      "......................WSSE = 62971.75341074697 \n",
      "Training for cluster size 20 \n",
      "......................WSSE = 63226.223767665535 \n",
      "Training for cluster size 21 \n",
      "......................WSSE = 61075.542655464495 \n",
      "Training for cluster size 22 \n",
      "......................WSSE = 60746.124712021294 \n",
      "Training for cluster size 23 \n",
      "......................WSSE = 60915.22194405656 \n",
      "Training for cluster size 24 \n",
      "......................WSSE = 59628.753362008465 \n",
      "Training for cluster size 25 \n",
      "......................WSSE = 59702.11444405059 \n",
      "Training for cluster size 26 \n",
      "......................WSSE = 58244.458461876726 \n",
      "Training for cluster size 27 \n",
      "......................WSSE = 58857.639356205385 \n",
      "Training for cluster size 28 \n",
      "......................WSSE = 57912.71594448852 \n",
      "Training for cluster size 29 \n",
      "......................WSSE = 57084.182127109394 \n",
      "Training for cluster size 30 \n",
      "......................WSSE = 56563.705503954116 \n"
     ]
    }
   ],
   "source": [
    "clusters = range(2,31)\n",
    "wsseList = utils.elbow(elbow_set, clusters)"
   ]
  },
  {
   "cell_type": "code",
   "execution_count": 26,
   "metadata": {},
   "outputs": [
    {
     "data": {
      "image/png": "[encoded data removed]",
      "text/plain": [
       "<Figure size 1080x720 with 1 Axes>"
      ]
     },
     "metadata": {
      "needs_background": "light"
     },
     "output_type": "display_data"
    }
   ],
   "source": [
    "utils.elbow_plot(wsseList, clusters)"
   ]
  },
  {
   "cell_type": "code",
   "execution_count": 31,
   "metadata": {},
   "outputs": [
    {
     "data": {
      "text/plain": [
       "DataFrame[features: vector]"
      ]
     },
     "execution_count": 31,
     "metadata": {},
     "output_type": "execute_result"
    }
   ],
   "source": [
    "scale_data = scale_data.select(\"features\")\n",
    "scale_data.persist()"
   ]
  },
  {
   "cell_type": "code",
   "execution_count": 32,
   "metadata": {},
   "outputs": [],
   "source": [
    "kmeans = KMeans(k=12, seed=1)\n",
    "model = kmeans.fit(scale_data)\n",
    "transformed = model.transform(scale_data)"
   ]
  },
  {
   "cell_type": "code",
   "execution_count": 33,
   "metadata": {
    "scrolled": true
   },
   "outputs": [
    {
     "data": {
      "text/plain": [
       "[array([ 0.41826309, -0.96510345,  0.68753921, -0.53403506,  0.88343796,\n",
       "        -0.51491771,  1.06076072]),\n",
       " array([-1.43480415, -1.42335186,  0.38846525,  2.04726263,  0.49984068,\n",
       "         2.01879457,  1.50867362]),\n",
       " array([-0.15765726,  0.8559352 , -1.31392127, -0.57572746, -1.17179772,\n",
       "        -0.59127424, -0.64347904]),\n",
       " array([-0.76485191, -0.14951347,  0.44030663,  1.52634387,  0.52540872,\n",
       "         1.45669696,  0.25250959]),\n",
       " array([ 0.04450616, -0.77286581, -1.19290024, -0.57087666, -1.03928454,\n",
       "        -0.58545772,  0.87001257]),\n",
       " array([-0.29459984,  0.55716351,  0.16449977, -0.69197671,  0.34642756,\n",
       "        -0.70503003, -0.37859364]),\n",
       " array([-0.01266104,  0.74476735,  0.41890048,  0.43667096,  0.53499934,\n",
       "         0.3957488 , -0.27520116]),\n",
       " array([-0.85576944, -1.12741402,  0.36855902,  0.16446897,  0.47050825,\n",
       "         0.15435228,  1.34560317]),\n",
       " array([ 1.1813546 , -0.24902977, -1.15588283,  2.11410139, -1.05407922,\n",
       "         2.23074143, -1.13306251]),\n",
       " array([ 1.41370016, -0.09784319, -1.12289318, -0.08585941, -0.9827127 ,\n",
       "        -0.06486344, -0.98576103]),\n",
       " array([ 0.23578429,  0.32416931,  1.88772493, -0.65233001, -1.55091335,\n",
       "        -0.5772212 , -0.28740788]),\n",
       " array([ 0.27328242,  0.78481258,  1.33192466, -0.65625549,  1.59639639,\n",
       "        -0.60914942, -0.75137796])]"
      ]
     },
     "execution_count": 33,
     "metadata": {},
     "output_type": "execute_result"
    }
   ],
   "source": [
    "centers = model.clusterCenters()\n",
    "centers"
   ]
  }
 ],
 "metadata": {
  "kernelspec": {
   "display_name": "Python 3",
   "language": "python",
   "name": "python3"
  },
  "language_info": {
   "codemirror_mode": {
    "name": "ipython",
    "version": 3
   },
   "file_extension": ".py",
   "mimetype": "text/x-python",
   "name": "python",
   "nbconvert_exporter": "python",
   "pygments_lexer": "ipython3",
   "version": "3.6.8"
  }
 },
 "nbformat": 4,
 "nbformat_minor": 1
}
